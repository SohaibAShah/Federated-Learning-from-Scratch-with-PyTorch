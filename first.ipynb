{
 "cells": [
  {
   "cell_type": "markdown",
   "id": "ef9f6347",
   "metadata": {},
   "source": [
    "## 🎓 Federated Learning from Scratch with PyTorch\n"
   ]
  },
  {
   "cell_type": "markdown",
   "id": "e568fe08",
   "metadata": {},
   "source": [
    "### Step 1: Setup and Data Preparation\n"
   ]
  },
  {
   "cell_type": "code",
   "execution_count": 1,
   "id": "932a3fc4",
   "metadata": {},
   "outputs": [],
   "source": [
    "import torch\n",
    "from torch import nn, optim\n",
    "from torch.utils.data import DataLoader, Dataset\n",
    "from torchvision import datasets, transforms\n",
    "import copy # We will use this to deep-copy our model to clients\n",
    "import random # For client selection"
   ]
  },
  {
   "cell_type": "code",
   "execution_count": 2,
   "id": "e894887a",
   "metadata": {},
   "outputs": [],
   "source": [
    "# Set a device for training (GPU if available, otherwise CPU)\n",
    "DEVICE = torch.device(\"cuda\" if torch.cuda.is_available() else \"cpu\")"
   ]
  },
  {
   "cell_type": "code",
   "execution_count": null,
   "id": "16378630",
   "metadata": {},
   "outputs": [],
   "source": []
  }
 ],
 "metadata": {
  "kernelspec": {
   "display_name": "UPFall",
   "language": "python",
   "name": "python3"
  },
  "language_info": {
   "codemirror_mode": {
    "name": "ipython",
    "version": 3
   },
   "file_extension": ".py",
   "mimetype": "text/x-python",
   "name": "python",
   "nbconvert_exporter": "python",
   "pygments_lexer": "ipython3",
   "version": "3.10.18"
  }
 },
 "nbformat": 4,
 "nbformat_minor": 5
}

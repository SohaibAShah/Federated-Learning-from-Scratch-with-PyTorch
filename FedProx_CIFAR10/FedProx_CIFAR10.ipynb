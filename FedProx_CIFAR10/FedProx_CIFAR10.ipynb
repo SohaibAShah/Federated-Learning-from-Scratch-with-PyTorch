{
 "cells": [
  {
   "cell_type": "markdown",
   "id": "13f25213",
   "metadata": {},
   "source": [
    "# 🎓 Advanced Federated Learning with FedProx and a CNN\n",
    "\n",
    "Welcome back! In this tutorial, we will elevate our federated learning knowledge by implementing a more advanced algorithm, FedProx, on a new dataset using a Convolutional Neural Network (CNN).\n",
    "\n",
    "The main challenge in real-world federated learning is data heterogeneity, where each client's data distribution is different (non-IID). FedProx is a state-of-the-art solution designed to handle this issue by regularizing the local client training."
   ]
  },
  {
   "cell_type": "markdown",
   "id": "0f4dadb8",
   "metadata": {},
   "source": [
    "## Step 1: Setup and Data Preparation (with Non-IID Data)\n",
    "\n",
    "First, we set up our environment. For this tutorial, we will use the CIFAR-10 dataset. To demonstrate the value of FedProx, we will deliberately create a non-IID data scenario where each client's data is heavily skewed towards a few classes"
   ]
  },
  {
   "cell_type": "code",
   "execution_count": 1,
   "id": "3b87a6ee",
   "metadata": {},
   "outputs": [],
   "source": [
    "import torch\n",
    "from torch import nn, optim\n",
    "from torch.utils.data import DataLoader, Dataset\n",
    "from torchvision import datasets, transforms\n",
    "import copy\n",
    "import random\n",
    "import numpy as np"
   ]
  },
  {
   "cell_type": "code",
   "execution_count": 2,
   "id": "fd8d04ab",
   "metadata": {},
   "outputs": [],
   "source": [
    "# Set a device for training\n",
    "DEVICE = torch.device(\"cuda\" if torch.cuda.is_available() else \"cpu\")"
   ]
  },
  {
   "cell_type": "code",
   "execution_count": 3,
   "id": "032c7d3e",
   "metadata": {},
   "outputs": [],
   "source": [
    "# Define the data transformations for CIFAR-10\n",
    "transform = transforms.Compose([\n",
    "    transforms.ToTensor(),\n",
    "    transforms.Normalize((0.5, 0.5, 0.5), (0.5, 0.5, 0.5))\n",
    "])"
   ]
  },
  {
   "cell_type": "markdown",
   "id": "b26d3035",
   "metadata": {},
   "source": [
    "### Download and load the CIFAR-10 datasets\n"
   ]
  },
  {
   "cell_type": "code",
   "execution_count": null,
   "id": "d9adee16",
   "metadata": {},
   "outputs": [
    {
     "name": "stderr",
     "output_type": "stream",
     "text": [
      "100.0%\n"
     ]
    }
   ],
   "source": [
    "train_dataset = datasets.CIFAR10('./data', train=True, download=True, transform=transform)\n",
    "test_dataset = datasets.CIFAR10('./data', train=False, download=True, transform=transform)"
   ]
  },
  {
   "cell_type": "code",
   "execution_count": 6,
   "id": "cc89ffba",
   "metadata": {},
   "outputs": [],
   "source": [
    "# Let's define the number of clients and the number of classes\n",
    "NUM_CLIENTS = 10\n",
    "CLASSES_PER_CLIENT = 2  # Each client will get data from only 2 classes"
   ]
  },
  {
   "cell_type": "code",
   "execution_count": 9,
   "id": "b1f37141",
   "metadata": {},
   "outputs": [],
   "source": [
    "def create_non_iid_partitions(dataset, num_clients, classes_per_client):\n",
    "    \"\"\"\n",
    "    Create non-IID data for clients by assigning each client a subset of classes.\n",
    "    \"\"\"\n",
    "    class_indices = [[] for _ in range(10)]\n",
    "    for idx, (_, label) in enumerate(dataset):\n",
    "        class_indices[label].append(idx)\n",
    "\n",
    "    client_indices = [[] for _ in range(num_clients)]\n",
    "\n",
    "    #Assign a unique set of `classes_per_client` to each client\n",
    "    class_sets = [set(random.sample(range(10), classes_per_client)) for _ in range(num_clients)]\n",
    "    for client_idx in range(num_clients):\n",
    "        for class_idx in class_sets[client_idx]:\n",
    "            client_indices[client_idx].extend(class_indices[class_idx])\n",
    "    \n",
    "    # Shuffle the indices for each client and create client subsets\n",
    "    partitions = [torch.utils.data.Subset(dataset, random.sample(indices, len(indices))) for indices in client_indices]\n",
    "\n",
    "    return partitions"
   ]
  },
  {
   "cell_type": "code",
   "execution_count": 11,
   "id": "b64f3f6e",
   "metadata": {},
   "outputs": [
    {
     "name": "stdout",
     "output_type": "stream",
     "text": [
      "Data has been partitioned among 10 clients, with each client having data from 2 classes.\n"
     ]
    }
   ],
   "source": [
    "client_data = create_non_iid_partitions(train_dataset, NUM_CLIENTS, CLASSES_PER_CLIENT)\n",
    "client_trainloaders = [DataLoader(data, batch_size=32, shuffle=True) for data in client_data]\n",
    "test_dataloader = DataLoader(test_dataset, batch_size=128, shuffle=False)\n",
    "\n",
    "print(f\"Data has been partitioned among {NUM_CLIENTS} clients, with each client having data from {CLASSES_PER_CLIENT} classes.\")"
   ]
  },
  {
   "cell_type": "markdown",
   "id": "826a2450",
   "metadata": {},
   "source": [
    "### Code Explanation:\n",
    "\n",
    "create_non_iid_partitions: This function is the key to simulating a real-world scenario. Instead of splitting the data randomly, it ensures each client's dataset is heavily skewed towards a few classes, making the federated learning problem more challenging.\n",
    "\n",
    "The rest of the data preparation is similar, but for the CIFAR-10 dataset, which has 3-channel images."
   ]
  },
  {
   "cell_type": "markdown",
   "id": "bd267137",
   "metadata": {},
   "source": [
    "## Step 2: Defining the Convolutional Neural Network (CNN) Model\n",
    "\n",
    "A CNN is far more suitable for image data like CIFAR-10 than the simple MLP we used before."
   ]
  },
  {
   "cell_type": "code",
   "execution_count": null,
   "id": "b9a3edcb",
   "metadata": {},
   "outputs": [],
   "source": [
    "# Define the CNN model architecture\n",
    "class CNN(nn.Module):\n",
    "    def __init__(self):\n",
    "        super(CNN, self).__init__()\n",
    "        self.conv1 = nn.Conv2d(3, 6, kernel_size=5) # 3 input channels (RGB), 6 output channels, 5x5 kernel\n",
    "        self.pool = nn.MaxPool2d(kernel_size=2, stride=2)\n",
    "        self.conv2 = nn.Conv2d(6, 16, kernel_size=5)\n",
    "        self.fc1 = nn.Linear(16 * 5 * 5, 120) # 16 channels, 5x5 feature map\n",
    "        self.fc2 = nn.Linear(120, 84)\n",
    "        self.fc3 = nn.Linear(84, 10) # 10 output classes for CIFAR-10\n",
    "\n",
    "    def forward(self, x):\n",
    "        x = self.pool(torch.relu(self.conv1(x)))\n",
    "        x = self.pool(torch.relu(self.conv2(x)))\n",
    "        x = x.view(-1, 16 * 5 * 5)  # Flatten the tensor\n",
    "        x = torch.relu(self.fc1(x))\n",
    "        x = torch.relu(self.fc2(x))\n",
    "        x = self.fc3(x)\n",
    "        return x"
   ]
  }
 ],
 "metadata": {
  "kernelspec": {
   "display_name": "UPFall",
   "language": "python",
   "name": "python3"
  },
  "language_info": {
   "codemirror_mode": {
    "name": "ipython",
    "version": 3
   },
   "file_extension": ".py",
   "mimetype": "text/x-python",
   "name": "python",
   "nbconvert_exporter": "python",
   "pygments_lexer": "ipython3",
   "version": "3.10.18"
  }
 },
 "nbformat": 4,
 "nbformat_minor": 5
}
